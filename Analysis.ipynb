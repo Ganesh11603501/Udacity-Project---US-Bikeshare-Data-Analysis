{
 "cells": [
  {
   "cell_type": "markdown",
   "metadata": {},
   "source": [
    "# 2016 US Bikeshare Analysis\n",
    "\n",
    "------"
   ]
  },
  {
   "cell_type": "markdown",
   "metadata": {},
   "source": [
    "I removed some of the clutter to make the notebook more readable. For the original file please see ./Bike_Share_Analayis.ipynb"
   ]
  },
  {
   "cell_type": "markdown",
   "metadata": {},
   "source": [
    "## 1.0 Posing Questions\n",
    "\n",
    "### 1.1 General Questions\n",
    "1. Which stations are the most popular?\n",
    "2. On what days and times do people use the bikeshares the most?\n",
    "3. How does use change depending on holidays?\n",
    "4. Is bikeshare use similar across cities?\n",
    "\n",
    "### 1.2 Business Questions\n",
    "1. How many bikes should each bikeshare have available?\n",
    "2. What is the optimal driving time between bikeshare stations?"
   ]
  },
  {
   "cell_type": "markdown",
   "metadata": {},
   "source": [
    "## 2.0 Data Collection and Wrangling"
   ]
  },
  {
   "cell_type": "markdown",
   "metadata": {},
   "source": [
    "## 2.1 Previewing The Data\n",
    "\n",
    "As with all data analysis, it's a good idea to know the data a little bit such as what columns exist, what data exists inside these columns and if there is missing data."
   ]
  },
  {
   "cell_type": "code",
   "execution_count": 25,
   "metadata": {
    "collapsed": true
   },
   "outputs": [],
   "source": [
    "# Importing packages and functions\n",
    "import csv # reading and writing to CSV files\n",
    "import datetime # operations to parse dates\n",
    "from pprint import pprint # use to print data structures like dictionaries in\n",
    "                          # a nicer way than the base print function."
   ]
  },
  {
   "cell_type": "code",
   "execution_count": 26,
   "metadata": {},
   "outputs": [
    {
     "name": "stdout",
     "output_type": "stream",
     "text": [
      "\n",
      "City: NYC\n",
      "OrderedDict([('tripduration', '839'),\n",
      "             ('starttime', '1/1/2016 00:09:55'),\n",
      "             ('stoptime', '1/1/2016 00:23:54'),\n",
      "             ('start station id', '532'),\n",
      "             ('start station name', 'S 5 Pl & S 4 St'),\n",
      "             ('start station latitude', '40.710451'),\n",
      "             ('start station longitude', '-73.960876'),\n",
      "             ('end station id', '401'),\n",
      "             ('end station name', 'Allen St & Rivington St'),\n",
      "             ('end station latitude', '40.72019576'),\n",
      "             ('end station longitude', '-73.98997825'),\n",
      "             ('bikeid', '17109'),\n",
      "             ('usertype', 'Customer'),\n",
      "             ('birth year', ''),\n",
      "             ('gender', '0')])\n",
      "\n",
      "City: Chicago\n",
      "OrderedDict([('trip_id', '9080545'),\n",
      "             ('starttime', '3/31/2016 23:30'),\n",
      "             ('stoptime', '3/31/2016 23:46'),\n",
      "             ('bikeid', '2295'),\n",
      "             ('tripduration', '926'),\n",
      "             ('from_station_id', '156'),\n",
      "             ('from_station_name', 'Clark St & Wellington Ave'),\n",
      "             ('to_station_id', '166'),\n",
      "             ('to_station_name', 'Ashland Ave & Wrightwood Ave'),\n",
      "             ('usertype', 'Subscriber'),\n",
      "             ('gender', 'Male'),\n",
      "             ('birthyear', '1990')])\n",
      "\n",
      "City: Washington\n",
      "OrderedDict([('Duration (ms)', '427387'),\n",
      "             ('Start date', '3/31/2016 22:57'),\n",
      "             ('End date', '3/31/2016 23:04'),\n",
      "             ('Start station number', '31602'),\n",
      "             ('Start station', 'Park Rd & Holmead Pl NW'),\n",
      "             ('End station number', '31207'),\n",
      "             ('End station', 'Georgia Ave and Fairmont St NW'),\n",
      "             ('Bike number', 'W20842'),\n",
      "             ('Member Type', 'Registered')])\n"
     ]
    }
   ],
   "source": [
    "def print_first_point(filename):\n",
    "    \"\"\"\n",
    "    This function prints and returns the first data point (second row) from\n",
    "    a csv file that includes a header row.\n",
    "    \"\"\"\n",
    "    # print city name for reference\n",
    "    city = filename.split('-')[0].split('/')[-1]\n",
    "    print('\\nCity: {}'.format(city))\n",
    "    \n",
    "    # Read the first from from the dataf file and store it in a variable\n",
    "    with open(filename, 'r') as f_in:\n",
    "        \n",
    "        # Use the csv library to set up a DictReader object.\n",
    "        trip_reader = csv.DictReader(f_in)\n",
    "        \n",
    "        #  Use a function on the DictReader object to read the\n",
    "        #  first trip from the data file and store it in a variable.\n",
    "        first_trip = next(trip_reader)\n",
    "        \n",
    "        #  Use the pprint library to print the first trip. \n",
    "        pprint(first_trip)\n",
    "        \n",
    "    # output city name and first trip for later testing\n",
    "    return (city, first_trip)\n",
    "\n",
    "# list of files for each city\n",
    "data_files = ['./data/NYC-CitiBike-2016.csv',\n",
    "              './data/Chicago-Divvy-2016.csv',\n",
    "              './data/Washington-CapitalBikeshare-2016.csv',]\n",
    "\n",
    "# print the first trip from each file, store in dictionary\n",
    "example_trips = {}\n",
    "for data_file in data_files:\n",
    "    city, first_trip = print_first_point(data_file)\n",
    "    example_trips[city] = first_trip"
   ]
  },
  {
   "cell_type": "markdown",
   "metadata": {},
   "source": [
    "It seems that the data contains information such as travel duration, the dates on which this travel occured, the starting and ending points, the bike ID and some information over the consumer.\n",
    "\n",
    "This data is not entirely homogenous between the CSV files. Hence, the columns will need to be transformed so that they become homogenous.\n",
    "\n",
    "It is also possible to see that the NYC data already has a missing value on \"birth year\" which can be iputed later or the row itself can be dropped entirely. Other than that, the quality of the data is very high which is good news! "
   ]
  },
  {
   "cell_type": "markdown",
   "metadata": {},
   "source": [
    "## 2.2 Condensing the Data"
   ]
  },
  {
   "cell_type": "markdown",
   "metadata": {},
   "source": [
    "As mentioned above, it is important so that the data becomes homogenous across datasets. This is going to be addressed in this section.\n",
    "\n",
    "This is going to be done by creating functions that converts the different values in the column into a homogneous form."
   ]
  },
  {
   "cell_type": "code",
   "execution_count": 27,
   "metadata": {
    "collapsed": true
   },
   "outputs": [],
   "source": [
    "def duration_in_mins(datum, city):\n",
    "    \"\"\"\n",
    "    Takes as input a dictionary containing info about a single trip (datum) and\n",
    "    its origin city (city) and returns the trip duration in units of minutes.\n",
    "    \"\"\"\n",
    "    \n",
    "    # Look up trip duration\n",
    "    if city == 'NYC':\n",
    "        duration = int(datum['tripduration'])\n",
    "        \n",
    "    elif city == 'Chicago':\n",
    "        duration = int(datum['tripduration'])\n",
    "        \n",
    "    else:\n",
    "        duration = int(datum['Duration (ms)'])/1000 # Original data is in ms\n",
    "    \n",
    "    return duration/60"
   ]
  },
  {
   "cell_type": "code",
   "execution_count": 34,
   "metadata": {
    "collapsed": true
   },
   "outputs": [],
   "source": [
    "def date_string_to_weekday(date):\n",
    "    \"\"\"\n",
    "    Takes date as a string in the form 'mm/dd/yyyy' and converts it\n",
    "    to a week day\n",
    "    \"\"\"\n",
    "    \n",
    "    #dictionary to convert weekday number to day of week\n",
    "    weekday_dictionary = {0: \"Monday\",\n",
    "                          1: \"Tuesday\",\n",
    "                          2: \"Wednesday\",\n",
    "                          3: \"Thursday\",\n",
    "                          4: \"Friday\",\n",
    "                          5: \"Saturday\",\n",
    "                          6: \"Sunday\"}\n",
    "    \n",
    "    #find weekday number\n",
    "    month, day, year = date.split('/')\n",
    "    week_day = datetime.datetime.weekday(datetime.date(int(year), int(month), int(day)))\n",
    "    \n",
    "    \n",
    "    return weekday_dictionary[week_day]\n",
    "\n",
    "def time_of_trip(datum, city):\n",
    "    \"\"\"\n",
    "    Takes as input a dictionary containing info about a single trip (datum) and\n",
    "    its origin city (city) and returns the month, hour, and day of the week in\n",
    "    which the trip was made.\n",
    "    \"\"\"\n",
    "\n",
    "    if city == 'NYC':\n",
    "        \n",
    "        # extract month\n",
    "        month =  datum['starttime'].split('/')[0]\n",
    "        \n",
    "        # extract hour\n",
    "        hour = datum['starttime'].split()[1].split(':')[0]\n",
    "        \n",
    "        # get day of week\n",
    "        day_of_week = date_string_to_weekday(datum['starttime'].split()[0])\n",
    "        \n",
    "    elif city == 'Chicago':\n",
    "        \n",
    "        # extract month\n",
    "        month =  datum['starttime'].split('/')[0]\n",
    "        \n",
    "        # extract hour\n",
    "        hour = datum['starttime'].split()[1].split(':')[0]\n",
    "        \n",
    "        # get day of week\n",
    "        day_of_week = date_string_to_weekday(datum['starttime'].split()[0])\n",
    "        \n",
    "    else:\n",
    "     \n",
    "        # extract month\n",
    "        month =  datum['Start date'].split('/')[0]\n",
    "        \n",
    "        # extract hour\n",
    "        hour = datum['Start date'].split()[1].split(':')[0]\n",
    "        \n",
    "        # get day of week\n",
    "        day_of_week = date_string_to_weekday(datum['Start date'].split()[0])\n",
    "    \n",
    "    return (int(month), int(hour), day_of_week)"
   ]
  },
  {
   "cell_type": "code",
   "execution_count": 36,
   "metadata": {
    "collapsed": true
   },
   "outputs": [],
   "source": [
    "def correct_member_type(user_type):\n",
    "    \"\"\"\n",
    "    Converts the user type for the Washington dataset so that it fits the other\n",
    "    datasets.\n",
    "    \"\"\"\n",
    "    # Dictionary for the conversion\n",
    "    user_type_dictionary = {\"Registered\":\"Subscriber\",\n",
    "                            \"Casual\":\"Customer\"}\n",
    "    \n",
    "    # Converting member type\n",
    "    new_user_type = user_type_dictionary[user_type]\n",
    "        \n",
    "    return new_user_type\n",
    "\n",
    "\n",
    "def type_of_user(datum, city):\n",
    "    \"\"\"\n",
    "    Takes as input a dictionary containing info about a single trip (datum) and\n",
    "    its origin city (city) and returns the type of system user that made the\n",
    "    trip.\n",
    "    \"\"\"\n",
    "    \n",
    "    if city == 'NYC': user_type = datum['usertype']\n",
    "    elif city == 'Chicago': user_type = datum['usertype']\n",
    "    else: user_type = correct_member_type(datum['Member Type'])\n",
    "     \n",
    "        \n",
    "    \n",
    "    return user_type"
   ]
  },
  {
   "cell_type": "markdown",
   "metadata": {},
   "source": [
    "Now that all of the functions have been defined to condense the CSV files into the form as seen in ./examples, the next code will do just that"
   ]
  },
  {
   "cell_type": "code",
   "execution_count": null,
   "metadata": {
    "collapsed": true
   },
   "outputs": [],
   "source": [
    "def condense_data(in_file, out_file, city):\n",
    "    \"\"\"\n",
    "    This function takes full data from the specified input file\n",
    "    and writes the condensed data to a specified output file. The city\n",
    "    argument determines how the input file will be parsed.\n",
    "    \n",
    "    HINT: See the cell below to see how the arguments are structured!\n",
    "    \"\"\"\n",
    "    \n",
    "    with open(out_file, 'w') as f_out, open(in_file, 'r') as f_in:\n",
    "        # set up csv DictWriter object - writer requires column names for the\n",
    "        # first row as the \"fieldnames\" argument\n",
    "        out_colnames = ['duration', 'month', 'hour', 'day_of_week', 'user_type']        \n",
    "        trip_writer = csv.DictWriter(f_out, fieldnames = out_colnames)\n",
    "        trip_writer.writeheader()\n",
    "        trip_reader = csv.DictReader(f_in)\n",
    "        \n",
    "        #  Use a function on the DictReader object to read the\n",
    "        #  first trip from the data file and store it in a variable.\n",
    "        first_trip = next(trip_reader)\n",
    "        \n",
    "\n",
    "        \"\"\"\n",
    "        Variables I am working with because this function is a mess:\n",
    "            out_colnames\n",
    "        \"\"\"\n",
    "        \n",
    "        # collect data from and process each row\n",
    "        for row in trip_reader:\n",
    "            # set up a dictionary to hold the values for the cleaned and trimmed\n",
    "            # data point\n",
    "            new_point = {}\n",
    "\n",
    "            ## TODO: use the helper functions to get the cleaned data from  ##\n",
    "            ## the original data dictionaries.                              ##\n",
    "            ## Note that the keys for the new_point dictionary should match ##\n",
    "            ## the column names set in the DictWriter object above.         ##\n",
    "            \n",
    "\n",
    "            ## TODO: write the processed information to the output file.     ##\n",
    "            ## see https://docs.python.org/3/library/csv.html#writer-objects ##\n",
    "            \n",
    "            "
   ]
  }
 ],
 "metadata": {
  "kernelspec": {
   "display_name": "Python 3",
   "language": "python",
   "name": "python3"
  },
  "language_info": {
   "codemirror_mode": {
    "name": "ipython",
    "version": 3
   },
   "file_extension": ".py",
   "mimetype": "text/x-python",
   "name": "python",
   "nbconvert_exporter": "python",
   "pygments_lexer": "ipython3",
   "version": "3.6.2"
  }
 },
 "nbformat": 4,
 "nbformat_minor": 2
}
